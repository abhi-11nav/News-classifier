{
 "cells": [
  {
   "cell_type": "code",
   "execution_count": 1,
   "id": "6a2a0e25",
   "metadata": {},
   "outputs": [],
   "source": [
    "import pandas as pd\n",
    "import numpy as np"
   ]
  },
  {
   "cell_type": "code",
   "execution_count": 2,
   "id": "1223e4e7",
   "metadata": {},
   "outputs": [],
   "source": [
    "df = pd.read_csv(\"data.csv\")"
   ]
  },
  {
   "cell_type": "code",
   "execution_count": 3,
   "id": "1aee16e2",
   "metadata": {},
   "outputs": [
    {
     "data": {
      "text/plain": [
       "(4009, 4)"
      ]
     },
     "execution_count": 3,
     "metadata": {},
     "output_type": "execute_result"
    }
   ],
   "source": [
    "# Looking at the shape of the dataframe\n",
    "\n",
    "df.shape"
   ]
  },
  {
   "cell_type": "code",
   "execution_count": 4,
   "id": "e68027e3",
   "metadata": {},
   "outputs": [
    {
     "data": {
      "text/html": [
       "<div>\n",
       "<style scoped>\n",
       "    .dataframe tbody tr th:only-of-type {\n",
       "        vertical-align: middle;\n",
       "    }\n",
       "\n",
       "    .dataframe tbody tr th {\n",
       "        vertical-align: top;\n",
       "    }\n",
       "\n",
       "    .dataframe thead th {\n",
       "        text-align: right;\n",
       "    }\n",
       "</style>\n",
       "<table border=\"1\" class=\"dataframe\">\n",
       "  <thead>\n",
       "    <tr style=\"text-align: right;\">\n",
       "      <th></th>\n",
       "      <th>URLs</th>\n",
       "      <th>Headline</th>\n",
       "      <th>Body</th>\n",
       "      <th>Label</th>\n",
       "    </tr>\n",
       "  </thead>\n",
       "  <tbody>\n",
       "    <tr>\n",
       "      <th>0</th>\n",
       "      <td>http://www.bbc.com/news/world-us-canada-414191...</td>\n",
       "      <td>Four ways Bob Corker skewered Donald Trump</td>\n",
       "      <td>Image copyright Getty Images\\nOn Sunday mornin...</td>\n",
       "      <td>1</td>\n",
       "    </tr>\n",
       "    <tr>\n",
       "      <th>1</th>\n",
       "      <td>https://www.reuters.com/article/us-filmfestiva...</td>\n",
       "      <td>Linklater's war veteran comedy speaks to moder...</td>\n",
       "      <td>LONDON (Reuters) - “Last Flag Flying”, a comed...</td>\n",
       "      <td>1</td>\n",
       "    </tr>\n",
       "    <tr>\n",
       "      <th>2</th>\n",
       "      <td>https://www.nytimes.com/2017/10/09/us/politics...</td>\n",
       "      <td>Trump’s Fight With Corker Jeopardizes His Legi...</td>\n",
       "      <td>The feud broke into public view last week when...</td>\n",
       "      <td>1</td>\n",
       "    </tr>\n",
       "  </tbody>\n",
       "</table>\n",
       "</div>"
      ],
      "text/plain": [
       "                                                URLs  \\\n",
       "0  http://www.bbc.com/news/world-us-canada-414191...   \n",
       "1  https://www.reuters.com/article/us-filmfestiva...   \n",
       "2  https://www.nytimes.com/2017/10/09/us/politics...   \n",
       "\n",
       "                                            Headline  \\\n",
       "0         Four ways Bob Corker skewered Donald Trump   \n",
       "1  Linklater's war veteran comedy speaks to moder...   \n",
       "2  Trump’s Fight With Corker Jeopardizes His Legi...   \n",
       "\n",
       "                                                Body  Label  \n",
       "0  Image copyright Getty Images\\nOn Sunday mornin...      1  \n",
       "1  LONDON (Reuters) - “Last Flag Flying”, a comed...      1  \n",
       "2  The feud broke into public view last week when...      1  "
      ]
     },
     "execution_count": 4,
     "metadata": {},
     "output_type": "execute_result"
    }
   ],
   "source": [
    "df.head(3)"
   ]
  },
  {
   "cell_type": "code",
   "execution_count": 5,
   "id": "17fffe1f",
   "metadata": {},
   "outputs": [
    {
     "name": "stdout",
     "output_type": "stream",
     "text": [
      "0    2137\n",
      "1    1872\n",
      "Name: Label, dtype: int64\n"
     ]
    },
    {
     "data": {
      "text/plain": [
       "'We can observe that the dataset is roughly balanced.'"
      ]
     },
     "execution_count": 5,
     "metadata": {},
     "output_type": "execute_result"
    }
   ],
   "source": [
    "# Checking for balance in dataset lables\n",
    "\n",
    "print(df['Label'].value_counts())\n",
    "\n",
    "\"\"\"We can observe that the dataset is roughly balanced.\"\"\""
   ]
  },
  {
   "cell_type": "code",
   "execution_count": 6,
   "id": "b6b57188",
   "metadata": {},
   "outputs": [
    {
     "name": "stdout",
     "output_type": "stream",
     "text": [
      "URLs         0\n",
      "Headline     0\n",
      "Body        21\n",
      "Label        0\n",
      "dtype: int64\n"
     ]
    },
    {
     "data": {
      "text/plain": [
       "'We can observe that the feature \"body\" has 21 missing values. We will drop these values to continue to the next step'"
      ]
     },
     "execution_count": 6,
     "metadata": {},
     "output_type": "execute_result"
    }
   ],
   "source": [
    "# Checking for missing values in the dataset\n",
    "\n",
    "print(df.isna().sum())\n",
    "\n",
    "\"\"\"We can observe that the feature \"body\" has 21 missing values. We will drop these values to continue to the next step\"\"\""
   ]
  },
  {
   "cell_type": "code",
   "execution_count": 7,
   "id": "48cb3b14",
   "metadata": {},
   "outputs": [],
   "source": [
    "# Dropping the rows with missing values\n",
    "\n",
    "df.dropna(inplace=True)"
   ]
  },
  {
   "cell_type": "code",
   "execution_count": 8,
   "id": "235ca558",
   "metadata": {},
   "outputs": [],
   "source": [
    "# Dividing the dataset into traina and test, so as to avoid data leakage\n",
    "\n",
    "from sklearn.model_selection import train_test_split\n",
    "\n",
    "X = df.drop('Label',axis=1)\n",
    "y = df['Label']"
   ]
  },
  {
   "cell_type": "code",
   "execution_count": 9,
   "id": "54419c63",
   "metadata": {},
   "outputs": [],
   "source": [
    "train_X,test_X,train_y,test_y = train_test_split(X,y,test_size=0.25,random_state=123)"
   ]
  },
  {
   "cell_type": "code",
   "execution_count": 10,
   "id": "a34979e7",
   "metadata": {},
   "outputs": [],
   "source": [
    "train_y = pd.DataFrame(train_y,columns=[\"Label\"])"
   ]
  },
  {
   "cell_type": "code",
   "execution_count": 11,
   "id": "63991cc5",
   "metadata": {},
   "outputs": [],
   "source": [
    "train = pd.concat([train_X,train_y],axis=1)"
   ]
  },
  {
   "cell_type": "code",
   "execution_count": 12,
   "id": "87e2337a",
   "metadata": {},
   "outputs": [
    {
     "data": {
      "text/html": [
       "<div>\n",
       "<style scoped>\n",
       "    .dataframe tbody tr th:only-of-type {\n",
       "        vertical-align: middle;\n",
       "    }\n",
       "\n",
       "    .dataframe tbody tr th {\n",
       "        vertical-align: top;\n",
       "    }\n",
       "\n",
       "    .dataframe thead th {\n",
       "        text-align: right;\n",
       "    }\n",
       "</style>\n",
       "<table border=\"1\" class=\"dataframe\">\n",
       "  <thead>\n",
       "    <tr style=\"text-align: right;\">\n",
       "      <th></th>\n",
       "      <th>URLs</th>\n",
       "      <th>Headline</th>\n",
       "      <th>Body</th>\n",
       "      <th>Label</th>\n",
       "    </tr>\n",
       "  </thead>\n",
       "  <tbody>\n",
       "    <tr>\n",
       "      <th>239</th>\n",
       "      <td>http://beforeitsnews.com/u-s-politics/2017/10/...</td>\n",
       "      <td>After Alleged 'Moron' Remark, Tillerson Stroke...</td>\n",
       "      <td>Warning Something Big Is About to Happen in Am...</td>\n",
       "      <td>0</td>\n",
       "    </tr>\n",
       "    <tr>\n",
       "      <th>421</th>\n",
       "      <td>http://beforeitsnews.com/sports/2017/10/101-tr...</td>\n",
       "      <td>10/1 TRS-PNC Era: Wildcard Win, TRS Closes, Fr...</td>\n",
       "      <td>No Getting Around it, The War Is Coming! Trump...</td>\n",
       "      <td>0</td>\n",
       "    </tr>\n",
       "    <tr>\n",
       "      <th>711</th>\n",
       "      <td>http://www.cnn.com/2017/10/06/entertainment/ho...</td>\n",
       "      <td>Hollywood mostly silent on Weinstein allegations</td>\n",
       "      <td>(CNN) More than a day after The New York Times...</td>\n",
       "      <td>1</td>\n",
       "    </tr>\n",
       "    <tr>\n",
       "      <th>2539</th>\n",
       "      <td>https://www.nytimes.com/2017/10/10/world/middl...</td>\n",
       "      <td>Egyptian Activist Receives a Top Human Rights ...</td>\n",
       "      <td>Mr. Zaree, whom the government has barred from...</td>\n",
       "      <td>1</td>\n",
       "    </tr>\n",
       "    <tr>\n",
       "      <th>847</th>\n",
       "      <td>https://www.nytimes.com/2017/10/10/arts/televi...</td>\n",
       "      <td>Harvey Weinstein Draws Sharp Attacks From Late...</td>\n",
       "      <td>Photo\\nWelcome to Best of Late Night, a rundow...</td>\n",
       "      <td>1</td>\n",
       "    </tr>\n",
       "    <tr>\n",
       "      <th>...</th>\n",
       "      <td>...</td>\n",
       "      <td>...</td>\n",
       "      <td>...</td>\n",
       "      <td>...</td>\n",
       "    </tr>\n",
       "    <tr>\n",
       "      <th>1131</th>\n",
       "      <td>http://beforeitsnews.com/sports/2017/09/kids-f...</td>\n",
       "      <td>Kids &amp; Fitness....Get the Kids Off the Couch &amp;...</td>\n",
       "      <td>Kids &amp; Fitness….Get the Kids Off the Couch &amp; H...</td>\n",
       "      <td>0</td>\n",
       "    </tr>\n",
       "    <tr>\n",
       "      <th>1357</th>\n",
       "      <td>http://beforeitsnews.com/sports/2017/09/10-imp...</td>\n",
       "      <td>10 Important Stories From 09/27/17 Box Scores:...</td>\n",
       "      <td>10 Important Stories From 09/27/17 Box Scores:...</td>\n",
       "      <td>0</td>\n",
       "    </tr>\n",
       "    <tr>\n",
       "      <th>3474</th>\n",
       "      <td>https://www.nytimes.com/2017/10/11/technology/...</td>\n",
       "      <td>The Frightful Five Want to Rule Entertainment....</td>\n",
       "      <td>Why start with the culture industries? The Fiv...</td>\n",
       "      <td>1</td>\n",
       "    </tr>\n",
       "    <tr>\n",
       "      <th>3457</th>\n",
       "      <td>https://www.nytimes.com/2017/10/10/world/middl...</td>\n",
       "      <td>Palestinian Rivals Talk Unity but Show Divisions</td>\n",
       "      <td>Hamas says its maintenance of control over its...</td>\n",
       "      <td>1</td>\n",
       "    </tr>\n",
       "    <tr>\n",
       "      <th>3602</th>\n",
       "      <td>https://www.activistpost.com/2017/09/can-choos...</td>\n",
       "      <td>Cheap Oil or a Weak Dollar</td>\n",
       "      <td>By Charles Hugh Smith\\nWhen the price of oil r...</td>\n",
       "      <td>0</td>\n",
       "    </tr>\n",
       "  </tbody>\n",
       "</table>\n",
       "<p>2991 rows × 4 columns</p>\n",
       "</div>"
      ],
      "text/plain": [
       "                                                   URLs  \\\n",
       "239   http://beforeitsnews.com/u-s-politics/2017/10/...   \n",
       "421   http://beforeitsnews.com/sports/2017/10/101-tr...   \n",
       "711   http://www.cnn.com/2017/10/06/entertainment/ho...   \n",
       "2539  https://www.nytimes.com/2017/10/10/world/middl...   \n",
       "847   https://www.nytimes.com/2017/10/10/arts/televi...   \n",
       "...                                                 ...   \n",
       "1131  http://beforeitsnews.com/sports/2017/09/kids-f...   \n",
       "1357  http://beforeitsnews.com/sports/2017/09/10-imp...   \n",
       "3474  https://www.nytimes.com/2017/10/11/technology/...   \n",
       "3457  https://www.nytimes.com/2017/10/10/world/middl...   \n",
       "3602  https://www.activistpost.com/2017/09/can-choos...   \n",
       "\n",
       "                                               Headline  \\\n",
       "239   After Alleged 'Moron' Remark, Tillerson Stroke...   \n",
       "421   10/1 TRS-PNC Era: Wildcard Win, TRS Closes, Fr...   \n",
       "711    Hollywood mostly silent on Weinstein allegations   \n",
       "2539  Egyptian Activist Receives a Top Human Rights ...   \n",
       "847   Harvey Weinstein Draws Sharp Attacks From Late...   \n",
       "...                                                 ...   \n",
       "1131  Kids & Fitness....Get the Kids Off the Couch &...   \n",
       "1357  10 Important Stories From 09/27/17 Box Scores:...   \n",
       "3474  The Frightful Five Want to Rule Entertainment....   \n",
       "3457   Palestinian Rivals Talk Unity but Show Divisions   \n",
       "3602                         Cheap Oil or a Weak Dollar   \n",
       "\n",
       "                                                   Body  Label  \n",
       "239   Warning Something Big Is About to Happen in Am...      0  \n",
       "421   No Getting Around it, The War Is Coming! Trump...      0  \n",
       "711   (CNN) More than a day after The New York Times...      1  \n",
       "2539  Mr. Zaree, whom the government has barred from...      1  \n",
       "847   Photo\\nWelcome to Best of Late Night, a rundow...      1  \n",
       "...                                                 ...    ...  \n",
       "1131  Kids & Fitness….Get the Kids Off the Couch & H...      0  \n",
       "1357  10 Important Stories From 09/27/17 Box Scores:...      0  \n",
       "3474  Why start with the culture industries? The Fiv...      1  \n",
       "3457  Hamas says its maintenance of control over its...      1  \n",
       "3602  By Charles Hugh Smith\\nWhen the price of oil r...      0  \n",
       "\n",
       "[2991 rows x 4 columns]"
      ]
     },
     "execution_count": 12,
     "metadata": {},
     "output_type": "execute_result"
    }
   ],
   "source": [
    "train"
   ]
  },
  {
   "cell_type": "code",
   "execution_count": 13,
   "id": "bd452c26",
   "metadata": {},
   "outputs": [
    {
     "data": {
      "text/html": [
       "<div>\n",
       "<style scoped>\n",
       "    .dataframe tbody tr th:only-of-type {\n",
       "        vertical-align: middle;\n",
       "    }\n",
       "\n",
       "    .dataframe tbody tr th {\n",
       "        vertical-align: top;\n",
       "    }\n",
       "\n",
       "    .dataframe thead th {\n",
       "        text-align: right;\n",
       "    }\n",
       "</style>\n",
       "<table border=\"1\" class=\"dataframe\">\n",
       "  <thead>\n",
       "    <tr style=\"text-align: right;\">\n",
       "      <th></th>\n",
       "      <th>URLs</th>\n",
       "      <th>Headline</th>\n",
       "      <th>Body</th>\n",
       "      <th>Label</th>\n",
       "    </tr>\n",
       "  </thead>\n",
       "  <tbody>\n",
       "    <tr>\n",
       "      <th>239</th>\n",
       "      <td>http://beforeitsnews.com/u-s-politics/2017/10/...</td>\n",
       "      <td>After Alleged 'Moron' Remark, Tillerson Stroke...</td>\n",
       "      <td>Warning Something Big Is About to Happen in Am...</td>\n",
       "      <td>0</td>\n",
       "    </tr>\n",
       "    <tr>\n",
       "      <th>421</th>\n",
       "      <td>http://beforeitsnews.com/sports/2017/10/101-tr...</td>\n",
       "      <td>10/1 TRS-PNC Era: Wildcard Win, TRS Closes, Fr...</td>\n",
       "      <td>No Getting Around it, The War Is Coming! Trump...</td>\n",
       "      <td>0</td>\n",
       "    </tr>\n",
       "    <tr>\n",
       "      <th>711</th>\n",
       "      <td>http://www.cnn.com/2017/10/06/entertainment/ho...</td>\n",
       "      <td>Hollywood mostly silent on Weinstein allegations</td>\n",
       "      <td>(CNN) More than a day after The New York Times...</td>\n",
       "      <td>1</td>\n",
       "    </tr>\n",
       "  </tbody>\n",
       "</table>\n",
       "</div>"
      ],
      "text/plain": [
       "                                                  URLs  \\\n",
       "239  http://beforeitsnews.com/u-s-politics/2017/10/...   \n",
       "421  http://beforeitsnews.com/sports/2017/10/101-tr...   \n",
       "711  http://www.cnn.com/2017/10/06/entertainment/ho...   \n",
       "\n",
       "                                              Headline  \\\n",
       "239  After Alleged 'Moron' Remark, Tillerson Stroke...   \n",
       "421  10/1 TRS-PNC Era: Wildcard Win, TRS Closes, Fr...   \n",
       "711   Hollywood mostly silent on Weinstein allegations   \n",
       "\n",
       "                                                  Body  Label  \n",
       "239  Warning Something Big Is About to Happen in Am...      0  \n",
       "421  No Getting Around it, The War Is Coming! Trump...      0  \n",
       "711  (CNN) More than a day after The New York Times...      1  "
      ]
     },
     "execution_count": 13,
     "metadata": {},
     "output_type": "execute_result"
    }
   ],
   "source": [
    "# Printing the head of training data\n",
    "\n",
    "train.head(3)"
   ]
  },
  {
   "cell_type": "code",
   "execution_count": 14,
   "id": "cd42ebcb",
   "metadata": {},
   "outputs": [],
   "source": [
    "# Re-arranging the index of training data\n",
    "\n",
    "train.index = range(len(train))"
   ]
  },
  {
   "cell_type": "code",
   "execution_count": 15,
   "id": "ae353ccb",
   "metadata": {},
   "outputs": [
    {
     "data": {
      "text/html": [
       "<div>\n",
       "<style scoped>\n",
       "    .dataframe tbody tr th:only-of-type {\n",
       "        vertical-align: middle;\n",
       "    }\n",
       "\n",
       "    .dataframe tbody tr th {\n",
       "        vertical-align: top;\n",
       "    }\n",
       "\n",
       "    .dataframe thead th {\n",
       "        text-align: right;\n",
       "    }\n",
       "</style>\n",
       "<table border=\"1\" class=\"dataframe\">\n",
       "  <thead>\n",
       "    <tr style=\"text-align: right;\">\n",
       "      <th></th>\n",
       "      <th>URLs</th>\n",
       "      <th>Headline</th>\n",
       "      <th>Body</th>\n",
       "      <th>Label</th>\n",
       "    </tr>\n",
       "  </thead>\n",
       "  <tbody>\n",
       "    <tr>\n",
       "      <th>0</th>\n",
       "      <td>http://beforeitsnews.com/u-s-politics/2017/10/...</td>\n",
       "      <td>After Alleged 'Moron' Remark, Tillerson Stroke...</td>\n",
       "      <td>Warning Something Big Is About to Happen in Am...</td>\n",
       "      <td>0</td>\n",
       "    </tr>\n",
       "    <tr>\n",
       "      <th>1</th>\n",
       "      <td>http://beforeitsnews.com/sports/2017/10/101-tr...</td>\n",
       "      <td>10/1 TRS-PNC Era: Wildcard Win, TRS Closes, Fr...</td>\n",
       "      <td>No Getting Around it, The War Is Coming! Trump...</td>\n",
       "      <td>0</td>\n",
       "    </tr>\n",
       "    <tr>\n",
       "      <th>2</th>\n",
       "      <td>http://www.cnn.com/2017/10/06/entertainment/ho...</td>\n",
       "      <td>Hollywood mostly silent on Weinstein allegations</td>\n",
       "      <td>(CNN) More than a day after The New York Times...</td>\n",
       "      <td>1</td>\n",
       "    </tr>\n",
       "  </tbody>\n",
       "</table>\n",
       "</div>"
      ],
      "text/plain": [
       "                                                URLs  \\\n",
       "0  http://beforeitsnews.com/u-s-politics/2017/10/...   \n",
       "1  http://beforeitsnews.com/sports/2017/10/101-tr...   \n",
       "2  http://www.cnn.com/2017/10/06/entertainment/ho...   \n",
       "\n",
       "                                            Headline  \\\n",
       "0  After Alleged 'Moron' Remark, Tillerson Stroke...   \n",
       "1  10/1 TRS-PNC Era: Wildcard Win, TRS Closes, Fr...   \n",
       "2   Hollywood mostly silent on Weinstein allegations   \n",
       "\n",
       "                                                Body  Label  \n",
       "0  Warning Something Big Is About to Happen in Am...      0  \n",
       "1  No Getting Around it, The War Is Coming! Trump...      0  \n",
       "2  (CNN) More than a day after The New York Times...      1  "
      ]
     },
     "execution_count": 15,
     "metadata": {},
     "output_type": "execute_result"
    }
   ],
   "source": [
    "train.head(3)"
   ]
  },
  {
   "cell_type": "code",
   "execution_count": 16,
   "id": "c05a1ae3",
   "metadata": {},
   "outputs": [
    {
     "name": "stdout",
     "output_type": "stream",
     "text": [
      "0    1584\n",
      "1    1407\n",
      "Name: Label, dtype: int64\n"
     ]
    },
    {
     "data": {
      "text/plain": [
       "'We can observe that a rough balance is maintained in the label'"
      ]
     },
     "execution_count": 16,
     "metadata": {},
     "output_type": "execute_result"
    }
   ],
   "source": [
    "# Checking for the balance in labels \n",
    "\n",
    "print(train['Label'].value_counts())\n",
    "\n",
    "\"\"\"We can observe that a rough balance is maintained in the label\"\"\""
   ]
  },
  {
   "cell_type": "code",
   "execution_count": 17,
   "id": "4bc29ca6",
   "metadata": {},
   "outputs": [],
   "source": [
    "# Importing library required for text processing\n",
    "\n",
    "import nltk \n",
    "\n",
    "import string\n",
    "\n",
    "from nltk.corpus import stopwords\n",
    "\n",
    "from nltk.stem import WordNetLemmatizer"
   ]
  },
  {
   "cell_type": "code",
   "execution_count": 18,
   "id": "66ed9d1c",
   "metadata": {},
   "outputs": [],
   "source": [
    "# Defining a function for text pre-processing of the data\n",
    "\n",
    "def text_preprocessing(df,list_name):\n",
    "    \n",
    "    # Merging all the feature into one sentence and appending it into the list\n",
    "    for sent in range(0,len(df)):\n",
    "        list_name.append(\" \".join(str(sentence) for sentence in df.iloc[sent,:3]))\n",
    "    \n",
    "    # Converting all the letters in the sentence to lower caps\n",
    "    for num in range(len(list_name)):\n",
    "        list_name[num] = list_name[num].lower()\n",
    "    \n",
    "    #Splitting the sentences into words by using word tokenize and removing the stopwords simaltaneously applying\n",
    "    #lemmatizer to words\n",
    "    for y in range(0,len(df)):\n",
    "        collection = nltk.word_tokenize(list_name[y])\n",
    "        collections = [lemmatizer.lemmatize(sentence) for sentence in collection if sentence not in set(stopwords.words(\"english\"))]\n",
    "        list_name[y] = \" \".join(collections)\n",
    "    \n",
    "    #Elminating punctuations from sentences as they do not add value. \n",
    "    for ind in range(len(df)):\n",
    "        for x in list_name[ind]:\n",
    "            if x in string.punctuation:\n",
    "                list_name[ind] = list_name[ind].replace(x,\"\")"
   ]
  },
  {
   "cell_type": "code",
   "execution_count": 19,
   "id": "5b446749",
   "metadata": {},
   "outputs": [],
   "source": [
    "training_data = []"
   ]
  },
  {
   "cell_type": "code",
   "execution_count": 20,
   "id": "68416921",
   "metadata": {},
   "outputs": [],
   "source": [
    "# Creating an object for WordNetLemmatizer\n",
    "\n",
    "lemmatizer = WordNetLemmatizer()"
   ]
  },
  {
   "cell_type": "code",
   "execution_count": 21,
   "id": "e8702b20",
   "metadata": {},
   "outputs": [],
   "source": [
    "# Passing the training data to function text_preprocessing\n",
    "\n",
    "\n",
    "text_preprocessing(train,training_data)"
   ]
  },
  {
   "cell_type": "code",
   "execution_count": 22,
   "id": "7808450e",
   "metadata": {},
   "outputs": [
    {
     "data": {
      "text/plain": [
       "'http  beforeitsnewscomuspolitics201710afterallegedmoronremarktillersonstrokestrumpsego2537294html alleged moron  remark  tillerson stroke trump s ego warning something big happen america martial law coming – 100  chance happen  red list blue list '"
      ]
     },
     "execution_count": 22,
     "metadata": {},
     "output_type": "execute_result"
    }
   ],
   "source": [
    "training_data[0]"
   ]
  },
  {
   "cell_type": "code",
   "execution_count": 23,
   "id": "78d63d63",
   "metadata": {},
   "outputs": [
    {
     "data": {
      "text/html": [
       "<div>\n",
       "<style scoped>\n",
       "    .dataframe tbody tr th:only-of-type {\n",
       "        vertical-align: middle;\n",
       "    }\n",
       "\n",
       "    .dataframe tbody tr th {\n",
       "        vertical-align: top;\n",
       "    }\n",
       "\n",
       "    .dataframe thead th {\n",
       "        text-align: right;\n",
       "    }\n",
       "</style>\n",
       "<table border=\"1\" class=\"dataframe\">\n",
       "  <thead>\n",
       "    <tr style=\"text-align: right;\">\n",
       "      <th></th>\n",
       "      <th>URLs</th>\n",
       "      <th>Headline</th>\n",
       "      <th>Body</th>\n",
       "      <th>Label</th>\n",
       "    </tr>\n",
       "  </thead>\n",
       "  <tbody>\n",
       "    <tr>\n",
       "      <th>0</th>\n",
       "      <td>http://beforeitsnews.com/u-s-politics/2017/10/...</td>\n",
       "      <td>After Alleged 'Moron' Remark, Tillerson Stroke...</td>\n",
       "      <td>Warning Something Big Is About to Happen in Am...</td>\n",
       "      <td>0</td>\n",
       "    </tr>\n",
       "  </tbody>\n",
       "</table>\n",
       "</div>"
      ],
      "text/plain": [
       "                                                URLs  \\\n",
       "0  http://beforeitsnews.com/u-s-politics/2017/10/...   \n",
       "\n",
       "                                            Headline  \\\n",
       "0  After Alleged 'Moron' Remark, Tillerson Stroke...   \n",
       "\n",
       "                                                Body  Label  \n",
       "0  Warning Something Big Is About to Happen in Am...      0  "
      ]
     },
     "execution_count": 23,
     "metadata": {},
     "output_type": "execute_result"
    }
   ],
   "source": [
    "train.head(1)"
   ]
  },
  {
   "cell_type": "code",
   "execution_count": 24,
   "id": "1f4afbfe",
   "metadata": {},
   "outputs": [],
   "source": [
    "from sklearn.feature_extraction.text import TfidfVectorizer"
   ]
  },
  {
   "cell_type": "code",
   "execution_count": 25,
   "id": "d6ffc2c4",
   "metadata": {},
   "outputs": [],
   "source": [
    "vectorizer = TfidfVectorizer(ngram_range=(1,3))"
   ]
  },
  {
   "cell_type": "code",
   "execution_count": 26,
   "id": "1b8bb3f3",
   "metadata": {},
   "outputs": [],
   "source": [
    "vectorized_train = vectorizer.fit_transform(training_data)"
   ]
  },
  {
   "cell_type": "code",
   "execution_count": 27,
   "id": "3cf18ab2",
   "metadata": {},
   "outputs": [
    {
     "data": {
      "text/html": [
       "<div>\n",
       "<style scoped>\n",
       "    .dataframe tbody tr th:only-of-type {\n",
       "        vertical-align: middle;\n",
       "    }\n",
       "\n",
       "    .dataframe tbody tr th {\n",
       "        vertical-align: top;\n",
       "    }\n",
       "\n",
       "    .dataframe thead th {\n",
       "        text-align: right;\n",
       "    }\n",
       "</style>\n",
       "<table border=\"1\" class=\"dataframe\">\n",
       "  <thead>\n",
       "    <tr style=\"text-align: right;\">\n",
       "      <th></th>\n",
       "      <th>00</th>\n",
       "      <th>00 1h</th>\n",
       "      <th>00 1h started</th>\n",
       "      <th>00 2h</th>\n",
       "      <th>00 2h put</th>\n",
       "      <th>00 draw</th>\n",
       "      <th>00 draw peru</th>\n",
       "      <th>00 draw yemen</th>\n",
       "      <th>00 dublin</th>\n",
       "      <th>00 dublin march</th>\n",
       "      <th>...</th>\n",
       "      <th>əˈnänəməs adjective person</th>\n",
       "      <th>ʺevery</th>\n",
       "      <th>ʺevery one</th>\n",
       "      <th>ʺevery one friend</th>\n",
       "      <th>ʺhe</th>\n",
       "      <th>ʺhe missed</th>\n",
       "      <th>ʺhe missed knew</th>\n",
       "      <th>殆wwreverbnationcomcarlthornton4</th>\n",
       "      <th>殆wwreverbnationcomcarlthornton4 aboutme</th>\n",
       "      <th>殆wwreverbnationcomcarlthornton4 aboutme http</th>\n",
       "    </tr>\n",
       "  </thead>\n",
       "  <tbody>\n",
       "    <tr>\n",
       "      <th>0</th>\n",
       "      <td>0.0</td>\n",
       "      <td>0.0</td>\n",
       "      <td>0.0</td>\n",
       "      <td>0.0</td>\n",
       "      <td>0.0</td>\n",
       "      <td>0.0</td>\n",
       "      <td>0.0</td>\n",
       "      <td>0.0</td>\n",
       "      <td>0.0</td>\n",
       "      <td>0.0</td>\n",
       "      <td>...</td>\n",
       "      <td>0.0</td>\n",
       "      <td>0.0</td>\n",
       "      <td>0.0</td>\n",
       "      <td>0.0</td>\n",
       "      <td>0.0</td>\n",
       "      <td>0.0</td>\n",
       "      <td>0.0</td>\n",
       "      <td>0.0</td>\n",
       "      <td>0.0</td>\n",
       "      <td>0.0</td>\n",
       "    </tr>\n",
       "    <tr>\n",
       "      <th>1</th>\n",
       "      <td>0.0</td>\n",
       "      <td>0.0</td>\n",
       "      <td>0.0</td>\n",
       "      <td>0.0</td>\n",
       "      <td>0.0</td>\n",
       "      <td>0.0</td>\n",
       "      <td>0.0</td>\n",
       "      <td>0.0</td>\n",
       "      <td>0.0</td>\n",
       "      <td>0.0</td>\n",
       "      <td>...</td>\n",
       "      <td>0.0</td>\n",
       "      <td>0.0</td>\n",
       "      <td>0.0</td>\n",
       "      <td>0.0</td>\n",
       "      <td>0.0</td>\n",
       "      <td>0.0</td>\n",
       "      <td>0.0</td>\n",
       "      <td>0.0</td>\n",
       "      <td>0.0</td>\n",
       "      <td>0.0</td>\n",
       "    </tr>\n",
       "    <tr>\n",
       "      <th>2</th>\n",
       "      <td>0.0</td>\n",
       "      <td>0.0</td>\n",
       "      <td>0.0</td>\n",
       "      <td>0.0</td>\n",
       "      <td>0.0</td>\n",
       "      <td>0.0</td>\n",
       "      <td>0.0</td>\n",
       "      <td>0.0</td>\n",
       "      <td>0.0</td>\n",
       "      <td>0.0</td>\n",
       "      <td>...</td>\n",
       "      <td>0.0</td>\n",
       "      <td>0.0</td>\n",
       "      <td>0.0</td>\n",
       "      <td>0.0</td>\n",
       "      <td>0.0</td>\n",
       "      <td>0.0</td>\n",
       "      <td>0.0</td>\n",
       "      <td>0.0</td>\n",
       "      <td>0.0</td>\n",
       "      <td>0.0</td>\n",
       "    </tr>\n",
       "    <tr>\n",
       "      <th>3</th>\n",
       "      <td>0.0</td>\n",
       "      <td>0.0</td>\n",
       "      <td>0.0</td>\n",
       "      <td>0.0</td>\n",
       "      <td>0.0</td>\n",
       "      <td>0.0</td>\n",
       "      <td>0.0</td>\n",
       "      <td>0.0</td>\n",
       "      <td>0.0</td>\n",
       "      <td>0.0</td>\n",
       "      <td>...</td>\n",
       "      <td>0.0</td>\n",
       "      <td>0.0</td>\n",
       "      <td>0.0</td>\n",
       "      <td>0.0</td>\n",
       "      <td>0.0</td>\n",
       "      <td>0.0</td>\n",
       "      <td>0.0</td>\n",
       "      <td>0.0</td>\n",
       "      <td>0.0</td>\n",
       "      <td>0.0</td>\n",
       "    </tr>\n",
       "    <tr>\n",
       "      <th>4</th>\n",
       "      <td>0.0</td>\n",
       "      <td>0.0</td>\n",
       "      <td>0.0</td>\n",
       "      <td>0.0</td>\n",
       "      <td>0.0</td>\n",
       "      <td>0.0</td>\n",
       "      <td>0.0</td>\n",
       "      <td>0.0</td>\n",
       "      <td>0.0</td>\n",
       "      <td>0.0</td>\n",
       "      <td>...</td>\n",
       "      <td>0.0</td>\n",
       "      <td>0.0</td>\n",
       "      <td>0.0</td>\n",
       "      <td>0.0</td>\n",
       "      <td>0.0</td>\n",
       "      <td>0.0</td>\n",
       "      <td>0.0</td>\n",
       "      <td>0.0</td>\n",
       "      <td>0.0</td>\n",
       "      <td>0.0</td>\n",
       "    </tr>\n",
       "    <tr>\n",
       "      <th>...</th>\n",
       "      <td>...</td>\n",
       "      <td>...</td>\n",
       "      <td>...</td>\n",
       "      <td>...</td>\n",
       "      <td>...</td>\n",
       "      <td>...</td>\n",
       "      <td>...</td>\n",
       "      <td>...</td>\n",
       "      <td>...</td>\n",
       "      <td>...</td>\n",
       "      <td>...</td>\n",
       "      <td>...</td>\n",
       "      <td>...</td>\n",
       "      <td>...</td>\n",
       "      <td>...</td>\n",
       "      <td>...</td>\n",
       "      <td>...</td>\n",
       "      <td>...</td>\n",
       "      <td>...</td>\n",
       "      <td>...</td>\n",
       "      <td>...</td>\n",
       "    </tr>\n",
       "    <tr>\n",
       "      <th>2986</th>\n",
       "      <td>0.0</td>\n",
       "      <td>0.0</td>\n",
       "      <td>0.0</td>\n",
       "      <td>0.0</td>\n",
       "      <td>0.0</td>\n",
       "      <td>0.0</td>\n",
       "      <td>0.0</td>\n",
       "      <td>0.0</td>\n",
       "      <td>0.0</td>\n",
       "      <td>0.0</td>\n",
       "      <td>...</td>\n",
       "      <td>0.0</td>\n",
       "      <td>0.0</td>\n",
       "      <td>0.0</td>\n",
       "      <td>0.0</td>\n",
       "      <td>0.0</td>\n",
       "      <td>0.0</td>\n",
       "      <td>0.0</td>\n",
       "      <td>0.0</td>\n",
       "      <td>0.0</td>\n",
       "      <td>0.0</td>\n",
       "    </tr>\n",
       "    <tr>\n",
       "      <th>2987</th>\n",
       "      <td>0.0</td>\n",
       "      <td>0.0</td>\n",
       "      <td>0.0</td>\n",
       "      <td>0.0</td>\n",
       "      <td>0.0</td>\n",
       "      <td>0.0</td>\n",
       "      <td>0.0</td>\n",
       "      <td>0.0</td>\n",
       "      <td>0.0</td>\n",
       "      <td>0.0</td>\n",
       "      <td>...</td>\n",
       "      <td>0.0</td>\n",
       "      <td>0.0</td>\n",
       "      <td>0.0</td>\n",
       "      <td>0.0</td>\n",
       "      <td>0.0</td>\n",
       "      <td>0.0</td>\n",
       "      <td>0.0</td>\n",
       "      <td>0.0</td>\n",
       "      <td>0.0</td>\n",
       "      <td>0.0</td>\n",
       "    </tr>\n",
       "    <tr>\n",
       "      <th>2988</th>\n",
       "      <td>0.0</td>\n",
       "      <td>0.0</td>\n",
       "      <td>0.0</td>\n",
       "      <td>0.0</td>\n",
       "      <td>0.0</td>\n",
       "      <td>0.0</td>\n",
       "      <td>0.0</td>\n",
       "      <td>0.0</td>\n",
       "      <td>0.0</td>\n",
       "      <td>0.0</td>\n",
       "      <td>...</td>\n",
       "      <td>0.0</td>\n",
       "      <td>0.0</td>\n",
       "      <td>0.0</td>\n",
       "      <td>0.0</td>\n",
       "      <td>0.0</td>\n",
       "      <td>0.0</td>\n",
       "      <td>0.0</td>\n",
       "      <td>0.0</td>\n",
       "      <td>0.0</td>\n",
       "      <td>0.0</td>\n",
       "    </tr>\n",
       "    <tr>\n",
       "      <th>2989</th>\n",
       "      <td>0.0</td>\n",
       "      <td>0.0</td>\n",
       "      <td>0.0</td>\n",
       "      <td>0.0</td>\n",
       "      <td>0.0</td>\n",
       "      <td>0.0</td>\n",
       "      <td>0.0</td>\n",
       "      <td>0.0</td>\n",
       "      <td>0.0</td>\n",
       "      <td>0.0</td>\n",
       "      <td>...</td>\n",
       "      <td>0.0</td>\n",
       "      <td>0.0</td>\n",
       "      <td>0.0</td>\n",
       "      <td>0.0</td>\n",
       "      <td>0.0</td>\n",
       "      <td>0.0</td>\n",
       "      <td>0.0</td>\n",
       "      <td>0.0</td>\n",
       "      <td>0.0</td>\n",
       "      <td>0.0</td>\n",
       "    </tr>\n",
       "    <tr>\n",
       "      <th>2990</th>\n",
       "      <td>0.0</td>\n",
       "      <td>0.0</td>\n",
       "      <td>0.0</td>\n",
       "      <td>0.0</td>\n",
       "      <td>0.0</td>\n",
       "      <td>0.0</td>\n",
       "      <td>0.0</td>\n",
       "      <td>0.0</td>\n",
       "      <td>0.0</td>\n",
       "      <td>0.0</td>\n",
       "      <td>...</td>\n",
       "      <td>0.0</td>\n",
       "      <td>0.0</td>\n",
       "      <td>0.0</td>\n",
       "      <td>0.0</td>\n",
       "      <td>0.0</td>\n",
       "      <td>0.0</td>\n",
       "      <td>0.0</td>\n",
       "      <td>0.0</td>\n",
       "      <td>0.0</td>\n",
       "      <td>0.0</td>\n",
       "    </tr>\n",
       "  </tbody>\n",
       "</table>\n",
       "<p>2991 rows × 1179585 columns</p>\n",
       "</div>"
      ],
      "text/plain": [
       "       00  00 1h  00 1h started  00 2h  00 2h put  00 draw  00 draw peru  \\\n",
       "0     0.0    0.0            0.0    0.0        0.0      0.0           0.0   \n",
       "1     0.0    0.0            0.0    0.0        0.0      0.0           0.0   \n",
       "2     0.0    0.0            0.0    0.0        0.0      0.0           0.0   \n",
       "3     0.0    0.0            0.0    0.0        0.0      0.0           0.0   \n",
       "4     0.0    0.0            0.0    0.0        0.0      0.0           0.0   \n",
       "...   ...    ...            ...    ...        ...      ...           ...   \n",
       "2986  0.0    0.0            0.0    0.0        0.0      0.0           0.0   \n",
       "2987  0.0    0.0            0.0    0.0        0.0      0.0           0.0   \n",
       "2988  0.0    0.0            0.0    0.0        0.0      0.0           0.0   \n",
       "2989  0.0    0.0            0.0    0.0        0.0      0.0           0.0   \n",
       "2990  0.0    0.0            0.0    0.0        0.0      0.0           0.0   \n",
       "\n",
       "      00 draw yemen  00 dublin  00 dublin march  ...  \\\n",
       "0               0.0        0.0              0.0  ...   \n",
       "1               0.0        0.0              0.0  ...   \n",
       "2               0.0        0.0              0.0  ...   \n",
       "3               0.0        0.0              0.0  ...   \n",
       "4               0.0        0.0              0.0  ...   \n",
       "...             ...        ...              ...  ...   \n",
       "2986            0.0        0.0              0.0  ...   \n",
       "2987            0.0        0.0              0.0  ...   \n",
       "2988            0.0        0.0              0.0  ...   \n",
       "2989            0.0        0.0              0.0  ...   \n",
       "2990            0.0        0.0              0.0  ...   \n",
       "\n",
       "      əˈnänəməs adjective person  ʺevery  ʺevery one  ʺevery one friend  ʺhe  \\\n",
       "0                            0.0     0.0         0.0                0.0  0.0   \n",
       "1                            0.0     0.0         0.0                0.0  0.0   \n",
       "2                            0.0     0.0         0.0                0.0  0.0   \n",
       "3                            0.0     0.0         0.0                0.0  0.0   \n",
       "4                            0.0     0.0         0.0                0.0  0.0   \n",
       "...                          ...     ...         ...                ...  ...   \n",
       "2986                         0.0     0.0         0.0                0.0  0.0   \n",
       "2987                         0.0     0.0         0.0                0.0  0.0   \n",
       "2988                         0.0     0.0         0.0                0.0  0.0   \n",
       "2989                         0.0     0.0         0.0                0.0  0.0   \n",
       "2990                         0.0     0.0         0.0                0.0  0.0   \n",
       "\n",
       "      ʺhe missed  ʺhe missed knew  殆wwreverbnationcomcarlthornton4  \\\n",
       "0            0.0              0.0                              0.0   \n",
       "1            0.0              0.0                              0.0   \n",
       "2            0.0              0.0                              0.0   \n",
       "3            0.0              0.0                              0.0   \n",
       "4            0.0              0.0                              0.0   \n",
       "...          ...              ...                              ...   \n",
       "2986         0.0              0.0                              0.0   \n",
       "2987         0.0              0.0                              0.0   \n",
       "2988         0.0              0.0                              0.0   \n",
       "2989         0.0              0.0                              0.0   \n",
       "2990         0.0              0.0                              0.0   \n",
       "\n",
       "      殆wwreverbnationcomcarlthornton4 aboutme  \\\n",
       "0                                         0.0   \n",
       "1                                         0.0   \n",
       "2                                         0.0   \n",
       "3                                         0.0   \n",
       "4                                         0.0   \n",
       "...                                       ...   \n",
       "2986                                      0.0   \n",
       "2987                                      0.0   \n",
       "2988                                      0.0   \n",
       "2989                                      0.0   \n",
       "2990                                      0.0   \n",
       "\n",
       "      殆wwreverbnationcomcarlthornton4 aboutme http  \n",
       "0                                              0.0  \n",
       "1                                              0.0  \n",
       "2                                              0.0  \n",
       "3                                              0.0  \n",
       "4                                              0.0  \n",
       "...                                            ...  \n",
       "2986                                           0.0  \n",
       "2987                                           0.0  \n",
       "2988                                           0.0  \n",
       "2989                                           0.0  \n",
       "2990                                           0.0  \n",
       "\n",
       "[2991 rows x 1179585 columns]"
      ]
     },
     "execution_count": 27,
     "metadata": {},
     "output_type": "execute_result"
    }
   ],
   "source": [
    "# Displaying Tfidf vectors in the form of a dataframe\n",
    "\n",
    "pd.DataFrame(vectorized_train.toarray(),columns=vectorizer.get_feature_names())"
   ]
  },
  {
   "cell_type": "code",
   "execution_count": 28,
   "id": "c356772d",
   "metadata": {},
   "outputs": [],
   "source": [
    "from sklearn.ensemble import RandomForestClassifier"
   ]
  },
  {
   "cell_type": "code",
   "execution_count": 29,
   "id": "cadf928f",
   "metadata": {},
   "outputs": [],
   "source": [
    "model = RandomForestClassifier()"
   ]
  },
  {
   "cell_type": "code",
   "execution_count": 30,
   "id": "e1b9d91c",
   "metadata": {},
   "outputs": [
    {
     "name": "stderr",
     "output_type": "stream",
     "text": [
      "/var/folders/r_/18s94lss4v17lxv_n1qp6k8r0000gn/T/ipykernel_3558/2172150242.py:1: DataConversionWarning: A column-vector y was passed when a 1d array was expected. Please change the shape of y to (n_samples,), for example using ravel().\n",
      "  model.fit(vectorized_train,train_y)\n"
     ]
    },
    {
     "data": {
      "text/plain": [
       "RandomForestClassifier()"
      ]
     },
     "execution_count": 30,
     "metadata": {},
     "output_type": "execute_result"
    }
   ],
   "source": [
    "model.fit(vectorized_train,train_y)"
   ]
  },
  {
   "cell_type": "code",
   "execution_count": 31,
   "id": "6e9de5aa",
   "metadata": {},
   "outputs": [],
   "source": [
    "test_y_ =  pd.DataFrame(test_y,columns=[\"Label\"])"
   ]
  },
  {
   "cell_type": "code",
   "execution_count": 32,
   "id": "91439392",
   "metadata": {},
   "outputs": [],
   "source": [
    "test = pd.concat([test_X,test_y_],axis=1)"
   ]
  },
  {
   "cell_type": "code",
   "execution_count": 33,
   "id": "e11db1ee",
   "metadata": {},
   "outputs": [
    {
     "data": {
      "text/html": [
       "<div>\n",
       "<style scoped>\n",
       "    .dataframe tbody tr th:only-of-type {\n",
       "        vertical-align: middle;\n",
       "    }\n",
       "\n",
       "    .dataframe tbody tr th {\n",
       "        vertical-align: top;\n",
       "    }\n",
       "\n",
       "    .dataframe thead th {\n",
       "        text-align: right;\n",
       "    }\n",
       "</style>\n",
       "<table border=\"1\" class=\"dataframe\">\n",
       "  <thead>\n",
       "    <tr style=\"text-align: right;\">\n",
       "      <th></th>\n",
       "      <th>URLs</th>\n",
       "      <th>Headline</th>\n",
       "      <th>Body</th>\n",
       "      <th>Label</th>\n",
       "    </tr>\n",
       "  </thead>\n",
       "  <tbody>\n",
       "    <tr>\n",
       "      <th>2881</th>\n",
       "      <td>http://beforeitsnews.com/sports/2017/10/can-ra...</td>\n",
       "      <td>Can Ravens End Losing Skid?</td>\n",
       "      <td>Can Ravens End Losing Skid?\\n% of readers thin...</td>\n",
       "      <td>0</td>\n",
       "    </tr>\n",
       "    <tr>\n",
       "      <th>1683</th>\n",
       "      <td>https://www.reuters.com/article/us-japan-kobes...</td>\n",
       "      <td>Kobe Steel unit found to be falsifying data: N...</td>\n",
       "      <td>FILE PHOTO: A man walks past the signboard of ...</td>\n",
       "      <td>1</td>\n",
       "    </tr>\n",
       "    <tr>\n",
       "      <th>903</th>\n",
       "      <td>http://beforeitsnews.com/sports/2017/10/2017-f...</td>\n",
       "      <td>2017 Fantasy Football Quarterback Rankings - W...</td>\n",
       "      <td>2017 Fantasy Football Quarterback Rankings – W...</td>\n",
       "      <td>0</td>\n",
       "    </tr>\n",
       "    <tr>\n",
       "      <th>1740</th>\n",
       "      <td>http://beforeitsnews.com/sports/2017/10/ravens...</td>\n",
       "      <td>Ravens @ Raiders - Friday/Game Status</td>\n",
       "      <td>An Embattled Pharmaceutical Company That Sells...</td>\n",
       "      <td>0</td>\n",
       "    </tr>\n",
       "    <tr>\n",
       "      <th>72</th>\n",
       "      <td>http://beforeitsnews.com/entertainment/2017/09...</td>\n",
       "      <td>Some Tips for Selecting The Best Flower Bouque...</td>\n",
       "      <td>Some Tips for Selecting The Best Flower Bouque...</td>\n",
       "      <td>0</td>\n",
       "    </tr>\n",
       "  </tbody>\n",
       "</table>\n",
       "</div>"
      ],
      "text/plain": [
       "                                                   URLs  \\\n",
       "2881  http://beforeitsnews.com/sports/2017/10/can-ra...   \n",
       "1683  https://www.reuters.com/article/us-japan-kobes...   \n",
       "903   http://beforeitsnews.com/sports/2017/10/2017-f...   \n",
       "1740  http://beforeitsnews.com/sports/2017/10/ravens...   \n",
       "72    http://beforeitsnews.com/entertainment/2017/09...   \n",
       "\n",
       "                                               Headline  \\\n",
       "2881                        Can Ravens End Losing Skid?   \n",
       "1683  Kobe Steel unit found to be falsifying data: N...   \n",
       "903   2017 Fantasy Football Quarterback Rankings - W...   \n",
       "1740              Ravens @ Raiders - Friday/Game Status   \n",
       "72    Some Tips for Selecting The Best Flower Bouque...   \n",
       "\n",
       "                                                   Body  Label  \n",
       "2881  Can Ravens End Losing Skid?\\n% of readers thin...      0  \n",
       "1683  FILE PHOTO: A man walks past the signboard of ...      1  \n",
       "903   2017 Fantasy Football Quarterback Rankings – W...      0  \n",
       "1740  An Embattled Pharmaceutical Company That Sells...      0  \n",
       "72    Some Tips for Selecting The Best Flower Bouque...      0  "
      ]
     },
     "execution_count": 33,
     "metadata": {},
     "output_type": "execute_result"
    }
   ],
   "source": [
    "test.head()"
   ]
  },
  {
   "cell_type": "code",
   "execution_count": 34,
   "id": "797171fc",
   "metadata": {},
   "outputs": [],
   "source": [
    "# Applying preprocessing function for test data\n",
    "\n",
    "testing_data= []\n",
    "\n",
    "text_preprocessing(test,testing_data)"
   ]
  },
  {
   "cell_type": "code",
   "execution_count": 35,
   "id": "c86aed72",
   "metadata": {},
   "outputs": [],
   "source": [
    "# Saving the predictions for test data into a variable\n",
    "\n",
    "pred = model.predict(vectorizer.transform(testing_data))"
   ]
  },
  {
   "cell_type": "code",
   "execution_count": 36,
   "id": "af57d19b",
   "metadata": {},
   "outputs": [],
   "source": [
    "#Importing accuracy score evalutaion metric from sklearn\n",
    "\n",
    "from sklearn.metrics import accuracy_score"
   ]
  },
  {
   "cell_type": "code",
   "execution_count": 37,
   "id": "8da9b398",
   "metadata": {},
   "outputs": [],
   "source": [
    "score = accuracy_score(test_y,pred)"
   ]
  },
  {
   "cell_type": "code",
   "execution_count": 38,
   "id": "daf8b6e3",
   "metadata": {},
   "outputs": [
    {
     "data": {
      "text/plain": [
       "0.9578736208625878"
      ]
     },
     "execution_count": 38,
     "metadata": {},
     "output_type": "execute_result"
    }
   ],
   "source": [
    "# Final prediction score of the model \n",
    "\n",
    "score"
   ]
  },
  {
   "cell_type": "code",
   "execution_count": 39,
   "id": "2798b96e",
   "metadata": {},
   "outputs": [],
   "source": [
    "# Importing pickle and pushing the model into a pickle file\n",
    "\n",
    "import pickle"
   ]
  },
  {
   "cell_type": "code",
   "execution_count": 40,
   "id": "9a90e05d",
   "metadata": {},
   "outputs": [],
   "source": [
    "file = open(\"model.pkl\",\"wb\")\n",
    "pickle.dump(model,file)"
   ]
  },
  {
   "cell_type": "code",
   "execution_count": 41,
   "id": "c59bcf03",
   "metadata": {},
   "outputs": [],
   "source": [
    "vector = open(\"vectorizer.pkl\",\"wb\")\n",
    "pickle.dump(vectorizer,vector)"
   ]
  },
  {
   "cell_type": "code",
   "execution_count": null,
   "id": "6d630916",
   "metadata": {},
   "outputs": [],
   "source": []
  },
  {
   "cell_type": "code",
   "execution_count": 42,
   "id": "efa7fb11",
   "metadata": {},
   "outputs": [
    {
     "name": "stdout",
     "output_type": "stream",
     "text": [
      "Note: you may need to restart the kernel to use updated packages.\n"
     ]
    }
   ],
   "source": [
    "pip freeze > requirements.txt"
   ]
  },
  {
   "cell_type": "code",
   "execution_count": null,
   "id": "39d4459f",
   "metadata": {},
   "outputs": [],
   "source": []
  }
 ],
 "metadata": {
  "kernelspec": {
   "display_name": "Python 3",
   "language": "python",
   "name": "python3"
  },
  "language_info": {
   "codemirror_mode": {
    "name": "ipython",
    "version": 3
   },
   "file_extension": ".py",
   "mimetype": "text/x-python",
   "name": "python",
   "nbconvert_exporter": "python",
   "pygments_lexer": "ipython3",
   "version": "3.8.8"
  }
 },
 "nbformat": 4,
 "nbformat_minor": 5
}
